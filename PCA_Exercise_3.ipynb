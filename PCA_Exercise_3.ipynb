{
  "nbformat": 4,
  "nbformat_minor": 0,
  "metadata": {
    "colab": {
      "provenance": []
    },
    "kernelspec": {
      "name": "python3",
      "display_name": "Python 3"
    },
    "language_info": {
      "name": "python"
    }
  },
  "cells": [
    {
      "cell_type": "markdown",
      "source": [
        "#1. Load a Dataset:"
      ],
      "metadata": {
        "id": "zdh1Dio5Pq1C"
      }
    },
    {
      "cell_type": "code",
      "source": [
        "# Import necessary libraries\n",
        "import numpy as np\n",
        "import pandas as pd\n",
        "from sklearn.decomposition import PCA\n",
        "from sklearn.model_selection import train_test_split\n",
        "from sklearn.preprocessing import StandardScaler\n",
        "from sklearn.linear_model import LogisticRegression\n",
        "from sklearn.metrics import accuracy_score, precision_score, recall_score, classification_report\n",
        "from sklearn.datasets import load_wine\n",
        "import matplotlib.pyplot as plt"
      ],
      "metadata": {
        "id": "sZUbniwLy05S"
      },
      "execution_count": 8,
      "outputs": []
    },
    {
      "cell_type": "code",
      "source": [
        "# Load the Wine dataset\n",
        "data = load_wine()\n",
        "X = pd.DataFrame(data.data, columns=data.feature_names)\n",
        "y = pd.Series(data.target)\n",
        "\n",
        "print(\"Dataset Loaded:\")\n",
        "print(X.head())  # Display first few rows of the dataset"
      ],
      "metadata": {
        "colab": {
          "base_uri": "https://localhost:8080/"
        },
        "id": "jak-T4aA1mdE",
        "outputId": "057bb041-0ac0-402e-c080-bfaad76f0fab"
      },
      "execution_count": 9,
      "outputs": [
        {
          "output_type": "stream",
          "name": "stdout",
          "text": [
            "Dataset Loaded:\n",
            "   alcohol  malic_acid   ash  alcalinity_of_ash  magnesium  total_phenols  \\\n",
            "0    14.23        1.71  2.43               15.6      127.0           2.80   \n",
            "1    13.20        1.78  2.14               11.2      100.0           2.65   \n",
            "2    13.16        2.36  2.67               18.6      101.0           2.80   \n",
            "3    14.37        1.95  2.50               16.8      113.0           3.85   \n",
            "4    13.24        2.59  2.87               21.0      118.0           2.80   \n",
            "\n",
            "   flavanoids  nonflavanoid_phenols  proanthocyanins  color_intensity   hue  \\\n",
            "0        3.06                  0.28             2.29             5.64  1.04   \n",
            "1        2.76                  0.26             1.28             4.38  1.05   \n",
            "2        3.24                  0.30             2.81             5.68  1.03   \n",
            "3        3.49                  0.24             2.18             7.80  0.86   \n",
            "4        2.69                  0.39             1.82             4.32  1.04   \n",
            "\n",
            "   od280/od315_of_diluted_wines  proline  \n",
            "0                          3.92   1065.0  \n",
            "1                          3.40   1050.0  \n",
            "2                          3.17   1185.0  \n",
            "3                          3.45   1480.0  \n",
            "4                          2.93    735.0  \n"
          ]
        }
      ]
    },
    {
      "cell_type": "markdown",
      "source": [
        "#2. Split the Data:"
      ],
      "metadata": {
        "id": "PZaYGBPp2uhg"
      }
    },
    {
      "cell_type": "code",
      "source": [
        "from sklearn.model_selection import train_test_split\n",
        "\n",
        "# Split the data (70% training, 30% testing)\n",
        "X_train, X_test, y_train, y_test = train_test_split(X, y, test_size=0.3, random_state=42)\n",
        "\n",
        "print(\"Data Split into Training and Testing Sets.\")"
      ],
      "metadata": {
        "colab": {
          "base_uri": "https://localhost:8080/"
        },
        "id": "tDdm2wgJ1Ej8",
        "outputId": "416904d3-1c84-4f51-b082-97f06bdaf5d2"
      },
      "execution_count": 10,
      "outputs": [
        {
          "output_type": "stream",
          "name": "stdout",
          "text": [
            "Data Split into Training and Testing Sets.\n"
          ]
        }
      ]
    },
    {
      "cell_type": "markdown",
      "source": [
        "#3. Baseline Model (No PCA):\n",
        "\n"
      ],
      "metadata": {
        "id": "tgdHaASky1SC"
      }
    },
    {
      "cell_type": "code",
      "source": [
        "# Train a Logistic Regression model on the raw data (No PCA)\n",
        "model = LogisticRegression(max_iter=10000)\n",
        "model.fit(X_train, y_train)\n",
        "\n",
        "# Evaluate performance on the test set\n",
        "y_pred = model.predict(X_test)\n",
        "\n",
        "# Calculate accuracy, precision, recall\n",
        "accuracy = accuracy_score(y_test, y_pred)\n",
        "precision = precision_score(y_test, y_pred, average='weighted')\n",
        "recall = recall_score(y_test, y_pred, average='weighted')\n",
        "\n",
        "print(f\"Baseline Model (No PCA) - Accuracy: {accuracy:.4f}, Precision: {precision:.4f}, Recall: {recall:.4f}\")"
      ],
      "metadata": {
        "colab": {
          "base_uri": "https://localhost:8080/"
        },
        "id": "HqYtwaKNy3hV",
        "outputId": "216f4881-708b-4f4e-8caf-7c708e1ec587"
      },
      "execution_count": 11,
      "outputs": [
        {
          "output_type": "stream",
          "name": "stdout",
          "text": [
            "Baseline Model (No PCA) - Accuracy: 1.0000, Precision: 1.0000, Recall: 1.0000\n"
          ]
        }
      ]
    },
    {
      "cell_type": "markdown",
      "source": [
        "#4. Apply PCA:\n",
        "\n"
      ],
      "metadata": {
        "id": "8-W5D4nPy5OF"
      }
    },
    {
      "cell_type": "code",
      "source": [
        "# Apply PCA, keeping different numbers of components\n",
        "pca_components = [2, 5, 10]  # You can adjust the number of components here\n",
        "\n",
        "for n_components in pca_components:\n",
        "    pca = PCA(n_components=n_components)\n",
        "    X_train_pca = pca.fit_transform(X_train)\n",
        "    X_test_pca = pca.transform(X_test)\n",
        "\n",
        "    print(f\"PCA with {n_components} Components Applied.\")"
      ],
      "metadata": {
        "colab": {
          "base_uri": "https://localhost:8080/"
        },
        "id": "Rfb-f1Piy6HW",
        "outputId": "51d382c4-7045-4dd2-e681-bfa9ff5cb300"
      },
      "execution_count": 12,
      "outputs": [
        {
          "output_type": "stream",
          "name": "stdout",
          "text": [
            "PCA with 2 Components Applied.\n",
            "PCA with 5 Components Applied.\n",
            "PCA with 10 Components Applied.\n"
          ]
        }
      ]
    },
    {
      "cell_type": "markdown",
      "source": [
        "#5. Train and Evaluate:"
      ],
      "metadata": {
        "id": "XMvnzxrfy726"
      }
    },
    {
      "cell_type": "code",
      "source": [
        "# Train and evaluate the Logistic Regression model after applying PCA\n",
        "for n_components in pca_components:\n",
        "    pca = PCA(n_components=n_components)\n",
        "    X_train_pca = pca.fit_transform(X_train)\n",
        "    X_test_pca = pca.transform(X_test)\n",
        "\n",
        "    # Train model on the reduced data\n",
        "    model = LogisticRegression(max_iter=10000)\n",
        "    model.fit(X_train_pca, y_train)\n",
        "\n",
        "    # Evaluate performance\n",
        "    y_pred_pca = model.predict(X_test_pca)\n",
        "    accuracy_pca = accuracy_score(y_test, y_pred_pca)\n",
        "    precision_pca = precision_score(y_test, y_pred_pca, average='weighted')\n",
        "    recall_pca = recall_score(y_test, y_pred_pca, average='weighted')\n",
        "\n",
        "    print(f\"Model with {n_components} PCA Components - Accuracy: {accuracy_pca:.4f}, Precision: {precision_pca:.4f}, Recall: {recall_pca:.4f}\")"
      ],
      "metadata": {
        "colab": {
          "base_uri": "https://localhost:8080/"
        },
        "id": "IhE6JoHyy9Hc",
        "outputId": "ea4cb02c-4b5d-47ad-f3b6-ae0ce28ac5f8"
      },
      "execution_count": 13,
      "outputs": [
        {
          "output_type": "stream",
          "name": "stdout",
          "text": [
            "Model with 2 PCA Components - Accuracy: 0.6852, Precision: 0.6653, Recall: 0.6852\n",
            "Model with 5 PCA Components - Accuracy: 1.0000, Precision: 1.0000, Recall: 1.0000\n",
            "Model with 10 PCA Components - Accuracy: 1.0000, Precision: 1.0000, Recall: 1.0000\n"
          ]
        }
      ]
    },
    {
      "cell_type": "markdown",
      "source": [
        "#6. Visualization:\n",
        "\n"
      ],
      "metadata": {
        "id": "twICVMf3y--K"
      }
    },
    {
      "cell_type": "code",
      "source": [
        "# Evaluate accuracy for different numbers of PCA components\n",
        "pca_components = range(2, 14)  # Components from 2 to 13\n",
        "accuracies = []\n",
        "\n",
        "for n_components in pca_components:\n",
        "    pca = PCA(n_components=n_components)\n",
        "    X_train_pca = pca.fit_transform(X_train)\n",
        "    X_test_pca = pca.transform(X_test)\n",
        "\n",
        "    model = LogisticRegression(max_iter=10000)\n",
        "    model.fit(X_train_pca, y_train)\n",
        "\n",
        "    y_pred_pca = model.predict(X_test_pca)\n",
        "    accuracies.append(accuracy_score(y_test, y_pred_pca))\n",
        "\n",
        "# Plotting accuracy vs number of PCA components\n",
        "plt.plot(pca_components, accuracies)\n",
        "plt.xlabel('Number of PCA Components')\n",
        "plt.ylabel('Accuracy')\n",
        "plt.title('Accuracy vs Number of PCA Components')\n",
        "plt.show()"
      ],
      "metadata": {
        "colab": {
          "base_uri": "https://localhost:8080/",
          "height": 472
        },
        "id": "zFLzHdqFzHN2",
        "outputId": "7d414798-c702-4eb0-9551-2c7c2c4dccc9"
      },
      "execution_count": 14,
      "outputs": [
        {
          "output_type": "display_data",
          "data": {
            "text/plain": [
              "<Figure size 640x480 with 1 Axes>"
            ],
            "image/png": "[encoded data removed]"
          },
          "metadata": {}
        }
      ]
    },
    {
      "cell_type": "markdown",
      "source": [
        "#How does the number of components affect model performance?\n",
        "\n",
        "As the number of PCA components increases, the accuracy tends to increase as well, but after a certain number of components (in this case, around 5 components), the accuracy reaches its maximum and plateaus. Adding more components beyond this point does not improve accuracy further."
      ],
      "metadata": {
        "id": "CPh5N1M-43lI"
      }
    },
    {
      "cell_type": "markdown",
      "source": [
        "#Is there a point where adding more components doesn’t improve accuracy?\n",
        "\n",
        "Yes, after a certain number of components (around 5 in this case), the accuracy stabilizes at its maximum value. Adding more components beyond this point does not improve model performance."
      ],
      "metadata": {
        "id": "yU1dDxgR48Yq"
      }
    }
  ]
}